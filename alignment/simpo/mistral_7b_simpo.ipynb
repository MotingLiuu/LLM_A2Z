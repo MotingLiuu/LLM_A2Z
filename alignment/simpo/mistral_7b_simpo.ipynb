{
 "cells": [
  {
   "cell_type": "code",
   "execution_count": 14,
   "id": "a4ebd347",
   "metadata": {},
   "outputs": [],
   "source": [
    "from transformers import AutoTokenizer, AutoModelForCausalLM\n",
    "from transformers import AutoModel\n",
    "import numpy as np\n",
    "import matplotlib.pyplot as plt\n",
    "from scipy.stats import pearsonr\n",
    "from tqdm import tqdm\n",
    "import torch\n",
    "device = \"cuda\" if torch.cuda.is_available() else \"cpu\"\n",
    "import logging\n",
    "logger = logging.getLogger(__name__)\n",
    "logging.basicConfig(level=logging.DEBUG, format='%(asctime)s - %(levelname)s - %(message)s')"
   ]
  },
  {
   "cell_type": "markdown",
   "id": "91fe7d69",
   "metadata": {},
   "source": [
    "# 1. Load models trained with DPO and SimPO"
   ]
  },
  {
   "cell_type": "code",
   "execution_count": null,
   "id": "a229e304",
   "metadata": {},
   "outputs": [
    {
     "name": "stderr",
     "output_type": "stream",
     "text": [
      "Loading checkpoint shards: 100%|██████████| 3/3 [00:00<00:00, 75.10it/s]\n"
     ]
    }
   ],
   "source": [
    "mistral_7b_DPO_tokenizer = AutoTokenizer.from_pretrained(\"princeton-nlp/Mistral-7B-Instruct-DPO\", trust_remote_code=True, cache_dir=\"../../models/Mistral-7B-Instruct-DPO\")\n",
    "mistral_7b_DPO = AutoModelForCausalLM.from_pretrained(\"princeton-nlp/Mistral-7B-Instruct-DPO\", trust_remote_code=True, cache_dir=\"../../models/Mistral-7B-Instruct-DPO\", torch_dtype=torch.bfloat16).to(device)\n",
    "mistral_7b_DPO.eval()"
   ]
  },
  {
   "cell_type": "markdown",
   "id": "252db2c3",
   "metadata": {},
   "source": [
    "# 2. Experiments\n",
    "## 2.1 Relation between Log probability and |y|"
   ]
  },
  {
   "cell_type": "code",
   "execution_count": 22,
   "id": "24fabf75",
   "metadata": {},
   "outputs": [
    {
     "name": "stdout",
     "output_type": "stream",
     "text": [
      "Prompt text: {'input_ids': tensor([[    2,     2,     2,     2,     2,     1,  5713,  3714,   264,   727,\n",
      "         28725,   297,   264,  2533,  2082, 28725,  2082,  1753, 28725],\n",
      "        [    1,  4968,   497,   281,  3692,   916,   272, 11375,  3646, 28725,\n",
      "         24668,   480, 14917,   288, 17207,   356,   272,  3414, 28723]],\n",
      "       device='cuda:0'), 'attention_mask': tensor([[0, 0, 0, 0, 0, 1, 1, 1, 1, 1, 1, 1, 1, 1, 1, 1, 1, 1, 1],\n",
      "        [1, 1, 1, 1, 1, 1, 1, 1, 1, 1, 1, 1, 1, 1, 1, 1, 1, 1, 1]],\n",
      "       device='cuda:0')}\n",
      "Prompt length: 19\n"
     ]
    }
   ],
   "source": [
    "prompt_text = [\"Once upon a time, in a land far, far away,\", \"fairies danced under the moonlight, casting shimmering shadows on the ground.\"]\n",
    "prompt_inputs = mistral_7b_DPO_tokenizer(prompt_text, return_tensors=\"pt\", padding=True).to(device)\n",
    "print(f\"Prompt text: {prompt_inputs}\")\n",
    "prompt_length = prompt_inputs.input_ids.shape[1]\n",
    "print(f\"Prompt length: {prompt_length}\")"
   ]
  },
  {
   "cell_type": "code",
   "execution_count": null,
   "id": "98280b37",
   "metadata": {},
   "outputs": [],
   "source": []
  }
 ],
 "metadata": {
  "kernelspec": {
   "display_name": "CS336",
   "language": "python",
   "name": "python3"
  },
  "language_info": {
   "codemirror_mode": {
    "name": "ipython",
    "version": 3
   },
   "file_extension": ".py",
   "mimetype": "text/x-python",
   "name": "python",
   "nbconvert_exporter": "python",
   "pygments_lexer": "ipython3",
   "version": "3.13.2"
  }
 },
 "nbformat": 4,
 "nbformat_minor": 5
}
