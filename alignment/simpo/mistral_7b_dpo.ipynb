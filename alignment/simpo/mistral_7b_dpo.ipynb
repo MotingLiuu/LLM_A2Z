{
 "cells": [
  {
   "cell_type": "code",
   "execution_count": 1,
   "id": "8caeed07",
   "metadata": {},
   "outputs": [
    {
     "name": "stderr",
     "output_type": "stream",
     "text": [
      "/data/satori_hdd1/mutyuu/miniconda3/envs/CS336/lib/python3.13/site-packages/tqdm/auto.py:21: TqdmWarning: IProgress not found. Please update jupyter and ipywidgets. See https://ipywidgets.readthedocs.io/en/stable/user_install.html\n",
      "  from .autonotebook import tqdm as notebook_tqdm\n"
     ]
    }
   ],
   "source": [
    "from transformers import AutoTokenizer, AutoModelForCausalLM\n",
    "from transformers import AutoModel"
   ]
  },
  {
   "cell_type": "code",
   "execution_count": 2,
   "id": "71676e15",
   "metadata": {},
   "outputs": [
    {
     "name": "stderr",
     "output_type": "stream",
     "text": [
      "Fetching 3 files: 100%|██████████| 3/3 [06:16<00:00, 125.43s/it]\n",
      "Loading checkpoint shards: 100%|██████████| 3/3 [00:24<00:00,  8.31s/it]\n"
     ]
    }
   ],
   "source": [
    "model = AutoModelForCausalLM.from_pretrained(\"princeton-nlp/Mistral-7B-Instruct-DPO\")"
   ]
  },
  {
   "cell_type": "code",
   "execution_count": 3,
   "id": "9fa2640e",
   "metadata": {},
   "outputs": [],
   "source": [
    "model.save_pretrained(\"../../models/Mistral-7B-Instruct-DPO\")"
   ]
  }
 ],
 "metadata": {
  "kernelspec": {
   "display_name": "CS336",
   "language": "python",
   "name": "python3"
  },
  "language_info": {
   "codemirror_mode": {
    "name": "ipython",
    "version": 3
   },
   "file_extension": ".py",
   "mimetype": "text/x-python",
   "name": "python",
   "nbconvert_exporter": "python",
   "pygments_lexer": "ipython3",
   "version": "3.13.2"
  }
 },
 "nbformat": 4,
 "nbformat_minor": 5
}
